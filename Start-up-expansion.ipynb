{
 "cells": [
  {
   "cell_type": "markdown",
   "id": "7740289b",
   "metadata": {},
   "source": [
    "# Start-up-expansion"
   ]
  },
  {
   "cell_type": "markdown",
   "id": "2cb730ac",
   "metadata": {},
   "source": [
    "## Importing libraries"
   ]
  },
  {
   "cell_type": "code",
   "execution_count": 3,
   "id": "90abe2e9",
   "metadata": {},
   "outputs": [],
   "source": [
    "import numpy as np\n",
    "import pandas as pd\n",
    "import matplotlib.pyplot as plt\n",
    "import seaborn as sns"
   ]
  },
  {
   "cell_type": "markdown",
   "id": "a48c73ff",
   "metadata": {},
   "source": [
    "## Import data"
   ]
  },
  {
   "cell_type": "code",
   "execution_count": 4,
   "id": "5c6b5409",
   "metadata": {},
   "outputs": [],
   "source": [
    "df = pd.read_excel('startup-expansion.xlsx')"
   ]
  },
  {
   "cell_type": "markdown",
   "id": "24344fca",
   "metadata": {},
   "source": [
    "## Explor and Inspect data"
   ]
  },
  {
   "cell_type": "code",
   "execution_count": 4,
   "id": "9ef08b10",
   "metadata": {},
   "outputs": [
    {
     "data": {
      "text/html": [
       "<div>\n",
       "<style scoped>\n",
       "    .dataframe tbody tr th:only-of-type {\n",
       "        vertical-align: middle;\n",
       "    }\n",
       "\n",
       "    .dataframe tbody tr th {\n",
       "        vertical-align: top;\n",
       "    }\n",
       "\n",
       "    .dataframe thead th {\n",
       "        text-align: right;\n",
       "    }\n",
       "</style>\n",
       "<table border=\"1\" class=\"dataframe\">\n",
       "  <thead>\n",
       "    <tr style=\"text-align: right;\">\n",
       "      <th></th>\n",
       "      <th>Store ID</th>\n",
       "      <th>City</th>\n",
       "      <th>State</th>\n",
       "      <th>Sales Region</th>\n",
       "      <th>New Expansion</th>\n",
       "      <th>Marketing Spend</th>\n",
       "      <th>Revenue</th>\n",
       "    </tr>\n",
       "  </thead>\n",
       "  <tbody>\n",
       "    <tr>\n",
       "      <th>0</th>\n",
       "      <td>1</td>\n",
       "      <td>Peoria</td>\n",
       "      <td>Arizona</td>\n",
       "      <td>Region 2</td>\n",
       "      <td>Old</td>\n",
       "      <td>2601</td>\n",
       "      <td>48610</td>\n",
       "    </tr>\n",
       "    <tr>\n",
       "      <th>1</th>\n",
       "      <td>2</td>\n",
       "      <td>Midland</td>\n",
       "      <td>Texas</td>\n",
       "      <td>Region 2</td>\n",
       "      <td>Old</td>\n",
       "      <td>2727</td>\n",
       "      <td>45689</td>\n",
       "    </tr>\n",
       "    <tr>\n",
       "      <th>2</th>\n",
       "      <td>3</td>\n",
       "      <td>Spokane</td>\n",
       "      <td>Washington</td>\n",
       "      <td>Region 2</td>\n",
       "      <td>Old</td>\n",
       "      <td>2768</td>\n",
       "      <td>49554</td>\n",
       "    </tr>\n",
       "    <tr>\n",
       "      <th>3</th>\n",
       "      <td>4</td>\n",
       "      <td>Denton</td>\n",
       "      <td>Texas</td>\n",
       "      <td>Region 2</td>\n",
       "      <td>Old</td>\n",
       "      <td>2759</td>\n",
       "      <td>38284</td>\n",
       "    </tr>\n",
       "    <tr>\n",
       "      <th>4</th>\n",
       "      <td>5</td>\n",
       "      <td>Overland Park</td>\n",
       "      <td>Kansas</td>\n",
       "      <td>Region 2</td>\n",
       "      <td>Old</td>\n",
       "      <td>2869</td>\n",
       "      <td>59887</td>\n",
       "    </tr>\n",
       "    <tr>\n",
       "      <th>...</th>\n",
       "      <td>...</td>\n",
       "      <td>...</td>\n",
       "      <td>...</td>\n",
       "      <td>...</td>\n",
       "      <td>...</td>\n",
       "      <td>...</td>\n",
       "      <td>...</td>\n",
       "    </tr>\n",
       "    <tr>\n",
       "      <th>145</th>\n",
       "      <td>146</td>\n",
       "      <td>Paterson</td>\n",
       "      <td>New Jersey</td>\n",
       "      <td>Region 1</td>\n",
       "      <td>New</td>\n",
       "      <td>2251</td>\n",
       "      <td>34603</td>\n",
       "    </tr>\n",
       "    <tr>\n",
       "      <th>146</th>\n",
       "      <td>147</td>\n",
       "      <td>Brownsville</td>\n",
       "      <td>Texas</td>\n",
       "      <td>Region 2</td>\n",
       "      <td>New</td>\n",
       "      <td>3675</td>\n",
       "      <td>63148</td>\n",
       "    </tr>\n",
       "    <tr>\n",
       "      <th>147</th>\n",
       "      <td>148</td>\n",
       "      <td>Rockford</td>\n",
       "      <td>Illinois</td>\n",
       "      <td>Region 1</td>\n",
       "      <td>New</td>\n",
       "      <td>2648</td>\n",
       "      <td>43377</td>\n",
       "    </tr>\n",
       "    <tr>\n",
       "      <th>148</th>\n",
       "      <td>149</td>\n",
       "      <td>College Station</td>\n",
       "      <td>Texas</td>\n",
       "      <td>Region 2</td>\n",
       "      <td>New</td>\n",
       "      <td>2994</td>\n",
       "      <td>22457</td>\n",
       "    </tr>\n",
       "    <tr>\n",
       "      <th>149</th>\n",
       "      <td>150</td>\n",
       "      <td>Thousand Oaks</td>\n",
       "      <td>California</td>\n",
       "      <td>Region 2</td>\n",
       "      <td>New</td>\n",
       "      <td>2431</td>\n",
       "      <td>40141</td>\n",
       "    </tr>\n",
       "  </tbody>\n",
       "</table>\n",
       "<p>150 rows × 7 columns</p>\n",
       "</div>"
      ],
      "text/plain": [
       "     Store ID             City       State Sales Region New Expansion  \\\n",
       "0           1           Peoria     Arizona     Region 2           Old   \n",
       "1           2          Midland       Texas     Region 2           Old   \n",
       "2           3          Spokane  Washington     Region 2           Old   \n",
       "3           4           Denton       Texas     Region 2           Old   \n",
       "4           5    Overland Park      Kansas     Region 2           Old   \n",
       "..        ...              ...         ...          ...           ...   \n",
       "145       146         Paterson  New Jersey     Region 1           New   \n",
       "146       147      Brownsville       Texas     Region 2           New   \n",
       "147       148         Rockford    Illinois     Region 1           New   \n",
       "148       149  College Station       Texas     Region 2           New   \n",
       "149       150    Thousand Oaks  California     Region 2           New   \n",
       "\n",
       "     Marketing Spend  Revenue  \n",
       "0               2601    48610  \n",
       "1               2727    45689  \n",
       "2               2768    49554  \n",
       "3               2759    38284  \n",
       "4               2869    59887  \n",
       "..               ...      ...  \n",
       "145             2251    34603  \n",
       "146             3675    63148  \n",
       "147             2648    43377  \n",
       "148             2994    22457  \n",
       "149             2431    40141  \n",
       "\n",
       "[150 rows x 7 columns]"
      ]
     },
     "execution_count": 4,
     "metadata": {},
     "output_type": "execute_result"
    }
   ],
   "source": [
    "# Viewing the first and last five rows in the dataset\n",
    "df"
   ]
  },
  {
   "cell_type": "code",
   "execution_count": 9,
   "id": "e1d58afc",
   "metadata": {},
   "outputs": [
    {
     "name": "stdout",
     "output_type": "stream",
     "text": [
      "<class 'pandas.core.frame.DataFrame'>\n",
      "RangeIndex: 150 entries, 0 to 149\n",
      "Data columns (total 7 columns):\n",
      " #   Column           Non-Null Count  Dtype \n",
      "---  ------           --------------  ----- \n",
      " 0   Store ID         150 non-null    int64 \n",
      " 1   City             150 non-null    object\n",
      " 2   State            150 non-null    object\n",
      " 3   Sales Region     150 non-null    object\n",
      " 4   New Expansion    150 non-null    object\n",
      " 5   Marketing Spend  150 non-null    int64 \n",
      " 6   Revenue          150 non-null    int64 \n",
      "dtypes: int64(3), object(4)\n",
      "memory usage: 8.3+ KB\n"
     ]
    }
   ],
   "source": [
    "# This method prints information about a DataFrame including the index dtype and columns, non-null values and memory usage.\n",
    "df.info()"
   ]
  },
  {
   "cell_type": "code",
   "execution_count": null,
   "id": "1b5fd1ba",
   "metadata": {},
   "outputs": [],
   "source": [
    "# As we can see there is no missing data"
   ]
  },
  {
   "cell_type": "code",
   "execution_count": 8,
   "id": "5611844c",
   "metadata": {},
   "outputs": [
    {
     "data": {
      "text/html": [
       "<div>\n",
       "<style scoped>\n",
       "    .dataframe tbody tr th:only-of-type {\n",
       "        vertical-align: middle;\n",
       "    }\n",
       "\n",
       "    .dataframe tbody tr th {\n",
       "        vertical-align: top;\n",
       "    }\n",
       "\n",
       "    .dataframe thead th {\n",
       "        text-align: right;\n",
       "    }\n",
       "</style>\n",
       "<table border=\"1\" class=\"dataframe\">\n",
       "  <thead>\n",
       "    <tr style=\"text-align: right;\">\n",
       "      <th></th>\n",
       "      <th>Marketing Spend</th>\n",
       "      <th>Revenue</th>\n",
       "    </tr>\n",
       "  </thead>\n",
       "  <tbody>\n",
       "    <tr>\n",
       "      <th>count</th>\n",
       "      <td>150.000000</td>\n",
       "      <td>150.000000</td>\n",
       "    </tr>\n",
       "    <tr>\n",
       "      <th>mean</th>\n",
       "      <td>2893.146667</td>\n",
       "      <td>39301.433333</td>\n",
       "    </tr>\n",
       "    <tr>\n",
       "      <th>std</th>\n",
       "      <td>367.862817</td>\n",
       "      <td>15465.753977</td>\n",
       "    </tr>\n",
       "    <tr>\n",
       "      <th>min</th>\n",
       "      <td>1811.000000</td>\n",
       "      <td>15562.000000</td>\n",
       "    </tr>\n",
       "    <tr>\n",
       "      <th>25%</th>\n",
       "      <td>2662.250000</td>\n",
       "      <td>21113.500000</td>\n",
       "    </tr>\n",
       "    <tr>\n",
       "      <th>50%</th>\n",
       "      <td>2898.000000</td>\n",
       "      <td>42993.000000</td>\n",
       "    </tr>\n",
       "    <tr>\n",
       "      <th>75%</th>\n",
       "      <td>3111.500000</td>\n",
       "      <td>51145.500000</td>\n",
       "    </tr>\n",
       "    <tr>\n",
       "      <th>max</th>\n",
       "      <td>3984.000000</td>\n",
       "      <td>68828.000000</td>\n",
       "    </tr>\n",
       "  </tbody>\n",
       "</table>\n",
       "</div>"
      ],
      "text/plain": [
       "       Marketing Spend       Revenue\n",
       "count       150.000000    150.000000\n",
       "mean       2893.146667  39301.433333\n",
       "std         367.862817  15465.753977\n",
       "min        1811.000000  15562.000000\n",
       "25%        2662.250000  21113.500000\n",
       "50%        2898.000000  42993.000000\n",
       "75%        3111.500000  51145.500000\n",
       "max        3984.000000  68828.000000"
      ]
     },
     "execution_count": 8,
     "metadata": {},
     "output_type": "execute_result"
    }
   ],
   "source": [
    "df[['Marketing Spend', 'Revenue']].describe()"
   ]
  },
  {
   "cell_type": "code",
   "execution_count": null,
   "id": "a5473f7f",
   "metadata": {},
   "outputs": [],
   "source": [
    "# From the above table we can infer that the data is normally distributed and has no outliers"
   ]
  },
  {
   "cell_type": "markdown",
   "id": "d201fa37",
   "metadata": {},
   "source": [
    "### Here we inspect the City column"
   ]
  },
  {
   "cell_type": "code",
   "execution_count": 21,
   "id": "216e31fb",
   "metadata": {},
   "outputs": [
    {
     "data": {
      "text/plain": [
       "array(['Peoria', 'Midland', 'Spokane', 'Denton', 'Overland Park',\n",
       "       'Yonkers', 'Birmingham', 'Antioch', 'Worcester', 'Rochester',\n",
       "       'Rialto', 'Santa Maria', 'Las Cruces', 'Jackson', 'Hillsboro',\n",
       "       'Temecula', 'Tallahassee', 'Fontana', 'Kent', 'Broken Arrow',\n",
       "       'Concord', 'Modesto', 'Montgomery', 'Burbank', 'Elk Grove',\n",
       "       'Port St. Lucie', 'Elizabeth', 'Salt Lake City', 'Waco', 'Edison',\n",
       "       'Boulder', 'Grand Rapids', 'Tyler', 'Charleston', 'Huntsville',\n",
       "       'Pearland', 'Inglewood', 'Oxnard', 'Miramar', 'Cape Coral',\n",
       "       'Syracuse', 'Newport News', 'Lewisville', 'Carrollton',\n",
       "       'San Bernardino', 'Pasadena', 'Roseville', 'Murrieta',\n",
       "       'San Angelo', 'Olathe', 'Akron', 'Fullerton', 'Manchester',\n",
       "       'Everett', 'West Covina', 'Thornton', 'Hampton', 'Waterbury',\n",
       "       'Ventura', 'Davenport', 'Columbia', 'Simi Valley', 'Richmond',\n",
       "       'Little Rock', 'El Cajon', 'Santa Clara', 'Oceanside', 'Davie',\n",
       "       'Lakeland', 'Centennial', 'Lowell', 'Ontario', 'Palm Bay',\n",
       "       'Murfreesboro', 'Vancouver', 'Topeka', 'West Valley City',\n",
       "       'New Haven', 'Pueblo', 'Costa Mesa', 'Garden Grove',\n",
       "       'Fort Lauderdale', 'North Charleston', 'Cambridge', 'Greeley',\n",
       "       'Gresham', 'Amarillo', 'High Point', 'Vista', 'Tacoma', 'Mesquite',\n",
       "       'Augusta', 'Elgin', 'Aurora', 'Gainesville', 'Dayton',\n",
       "       'Wichita Falls', 'Naperville', 'Clovis', 'Billings', 'Surprise',\n",
       "       'Coral Springs', 'Visalia', 'Killeen', 'Orange', 'Richardson',\n",
       "       'South Bend', 'Fayetteville', 'Sioux Falls', 'Grand Prairie',\n",
       "       'Stamford', 'West Palm Beach', 'Knoxville', 'Renton', 'McAllen',\n",
       "       'Woodbridge', 'Shreveport', 'Bellevue', 'Huntington Beach',\n",
       "       'Santa Clarita', 'Sterling Heights', 'Mobile', 'Bridgeport',\n",
       "       'Daly City', 'Sandy Springs', 'Cedar Rapids', 'Columbus',\n",
       "       'Moreno Valley', 'Pompano Beach', 'Savannah', 'West Jordan',\n",
       "       'Des Moines', 'Green Bay', 'Santa Rosa', 'San Mateo', 'Warren',\n",
       "       'Norwalk', 'Lafayette', 'Providence', 'Chattanooga', 'Tempe',\n",
       "       'Joliet', 'Rancho Cucamonga', 'Glendale', 'Paterson',\n",
       "       'Brownsville', 'Rockford', 'College Station', 'Thousand Oaks'],\n",
       "      dtype=object)"
      ]
     },
     "execution_count": 21,
     "metadata": {},
     "output_type": "execute_result"
    }
   ],
   "source": [
    "df['City'].unique()"
   ]
  },
  {
   "cell_type": "code",
   "execution_count": 26,
   "id": "1b72106e",
   "metadata": {},
   "outputs": [
    {
     "data": {
      "text/plain": [
       "149"
      ]
     },
     "execution_count": 26,
     "metadata": {},
     "output_type": "execute_result"
    }
   ],
   "source": [
    "df['City'].nunique()"
   ]
  },
  {
   "cell_type": "code",
   "execution_count": 22,
   "id": "849fd430",
   "metadata": {},
   "outputs": [
    {
     "data": {
      "text/plain": [
       "Rochester        2\n",
       "Killeen          1\n",
       "Wichita Falls    1\n",
       "Naperville       1\n",
       "Clovis           1\n",
       "                ..\n",
       "Akron            1\n",
       "Fullerton        1\n",
       "Manchester       1\n",
       "Everett          1\n",
       "Thousand Oaks    1\n",
       "Name: City, Length: 149, dtype: int64"
      ]
     },
     "execution_count": 22,
     "metadata": {},
     "output_type": "execute_result"
    }
   ],
   "source": [
    "df['City'].value_counts()"
   ]
  },
  {
   "cell_type": "markdown",
   "id": "acdacf5c",
   "metadata": {},
   "source": [
    "### Here we inspect the State column"
   ]
  },
  {
   "cell_type": "code",
   "execution_count": 23,
   "id": "d4dada93",
   "metadata": {},
   "outputs": [
    {
     "data": {
      "text/plain": [
       "array(['Arizona', 'Texas', 'Washington', 'Kansas', 'New York', 'Alabama',\n",
       "       'California', 'Massachusetts', 'New Mexico', 'Mississippi',\n",
       "       'Oregon', 'Florida', 'Oklahoma', 'New Jersey', 'Utah', 'Colorado',\n",
       "       'Michigan', 'South Carolina', 'Virginia', 'Ohio', 'New Hampshire',\n",
       "       'Connecticut', 'Iowa', 'Arkansas', 'Tennessee', 'North Carolina',\n",
       "       'Georgia', 'Illinois', 'Montana', 'Indiana', 'South Dakota',\n",
       "       'Louisiana', 'Minnesota', 'Wisconsin', 'Rhode Island'],\n",
       "      dtype=object)"
      ]
     },
     "execution_count": 23,
     "metadata": {},
     "output_type": "execute_result"
    }
   ],
   "source": [
    "df['State'].unique()"
   ]
  },
  {
   "cell_type": "code",
   "execution_count": 25,
   "id": "e7f25d92",
   "metadata": {},
   "outputs": [
    {
     "data": {
      "text/plain": [
       "35"
      ]
     },
     "execution_count": 25,
     "metadata": {},
     "output_type": "execute_result"
    }
   ],
   "source": [
    "df['State'].nunique()"
   ]
  },
  {
   "cell_type": "code",
   "execution_count": 24,
   "id": "aa038f0a",
   "metadata": {},
   "outputs": [
    {
     "data": {
      "text/plain": [
       "California        40\n",
       "Texas             17\n",
       "Florida           12\n",
       "Washington         7\n",
       "Colorado           5\n",
       "Illinois           5\n",
       "Georgia            4\n",
       "Alabama            4\n",
       "Connecticut        4\n",
       "New Jersey         4\n",
       "Arizona            3\n",
       "Tennessee          3\n",
       "Iowa               3\n",
       "Michigan           3\n",
       "South Carolina     3\n",
       "Utah               3\n",
       "Massachusetts      3\n",
       "Kansas             3\n",
       "New York           3\n",
       "Louisiana          2\n",
       "North Carolina     2\n",
       "Ohio               2\n",
       "Virginia           2\n",
       "Oregon             2\n",
       "Mississippi        1\n",
       "New Mexico         1\n",
       "Arkansas           1\n",
       "New Hampshire      1\n",
       "Oklahoma           1\n",
       "Montana            1\n",
       "Indiana            1\n",
       "South Dakota       1\n",
       "Minnesota          1\n",
       "Wisconsin          1\n",
       "Rhode Island       1\n",
       "Name: State, dtype: int64"
      ]
     },
     "execution_count": 24,
     "metadata": {},
     "output_type": "execute_result"
    }
   ],
   "source": [
    "df['State'].value_counts()"
   ]
  },
  {
   "cell_type": "markdown",
   "id": "4dc89fba",
   "metadata": {},
   "source": [
    "### Here we inspect the Sales Regions column"
   ]
  },
  {
   "cell_type": "code",
   "execution_count": 28,
   "id": "81e1b46c",
   "metadata": {},
   "outputs": [
    {
     "data": {
      "text/plain": [
       "array(['Region 2', 'Region 1'], dtype=object)"
      ]
     },
     "execution_count": 28,
     "metadata": {},
     "output_type": "execute_result"
    }
   ],
   "source": [
    "df['Sales Region'].unique()"
   ]
  },
  {
   "cell_type": "code",
   "execution_count": 29,
   "id": "d5ee72d9",
   "metadata": {},
   "outputs": [
    {
     "data": {
      "text/plain": [
       "2"
      ]
     },
     "execution_count": 29,
     "metadata": {},
     "output_type": "execute_result"
    }
   ],
   "source": [
    "df['Sales Region'].nunique()"
   ]
  },
  {
   "cell_type": "code",
   "execution_count": 30,
   "id": "35a18a9d",
   "metadata": {},
   "outputs": [
    {
     "data": {
      "text/plain": [
       "Region 2    86\n",
       "Region 1    64\n",
       "Name: Sales Region, dtype: int64"
      ]
     },
     "execution_count": 30,
     "metadata": {},
     "output_type": "execute_result"
    }
   ],
   "source": [
    "df['Sales Region'].value_counts()"
   ]
  },
  {
   "cell_type": "markdown",
   "id": "1a4c46f4",
   "metadata": {},
   "source": [
    "### Here we inspect the Sales Regions column"
   ]
  },
  {
   "cell_type": "code",
   "execution_count": 31,
   "id": "f02a52e2",
   "metadata": {},
   "outputs": [
    {
     "data": {
      "text/plain": [
       "array(['Old', 'New'], dtype=object)"
      ]
     },
     "execution_count": 31,
     "metadata": {},
     "output_type": "execute_result"
    }
   ],
   "source": [
    "df['New Expansion'].unique()"
   ]
  },
  {
   "cell_type": "code",
   "execution_count": 32,
   "id": "7ea2e0e7",
   "metadata": {},
   "outputs": [
    {
     "data": {
      "text/plain": [
       "2"
      ]
     },
     "execution_count": 32,
     "metadata": {},
     "output_type": "execute_result"
    }
   ],
   "source": [
    "df['New Expansion'].nunique()"
   ]
  },
  {
   "cell_type": "code",
   "execution_count": 33,
   "id": "2f0aa5ab",
   "metadata": {},
   "outputs": [
    {
     "data": {
      "text/plain": [
       "Old    140\n",
       "New     10\n",
       "Name: New Expansion, dtype: int64"
      ]
     },
     "execution_count": 33,
     "metadata": {},
     "output_type": "execute_result"
    }
   ],
   "source": [
    "df['New Expansion'].value_counts()"
   ]
  },
  {
   "cell_type": "markdown",
   "id": "acedbef5",
   "metadata": {},
   "source": [
    "### Here we inspect the Marketing Spend column"
   ]
  },
  {
   "cell_type": "code",
   "execution_count": 48,
   "id": "2d742ae9",
   "metadata": {},
   "outputs": [
    {
     "data": {
      "text/plain": [
       "<AxesSubplot:>"
      ]
     },
     "execution_count": 48,
     "metadata": {},
     "output_type": "execute_result"
    },
    {
     "data": {
      "image/png": "[encoded data removed]",
      "text/plain": [
       "<Figure size 432x288 with 1 Axes>"
      ]
     },
     "metadata": {
      "needs_background": "light"
     },
     "output_type": "display_data"
    }
   ],
   "source": [
    "df['Marketing Spend'].hist()"
   ]
  },
  {
   "cell_type": "code",
   "execution_count": null,
   "id": "0e51d26d",
   "metadata": {},
   "outputs": [],
   "source": [
    "# We can see that it nearly follows normal distribution"
   ]
  },
  {
   "cell_type": "markdown",
   "id": "3dd9232a",
   "metadata": {},
   "source": [
    "### Here we inspect the Revenue column"
   ]
  },
  {
   "cell_type": "code",
   "execution_count": 49,
   "id": "63f592cf",
   "metadata": {},
   "outputs": [
    {
     "data": {
      "text/plain": [
       "<AxesSubplot:>"
      ]
     },
     "execution_count": 49,
     "metadata": {},
     "output_type": "execute_result"
    },
    {
     "data": {
      "image/png": "[encoded data removed]",
      "text/plain": [
       "<Figure size 432x288 with 1 Axes>"
      ]
     },
     "metadata": {
      "needs_background": "light"
     },
     "output_type": "display_data"
    }
   ],
   "source": [
    "df.Revenue.hist()"
   ]
  },
  {
   "cell_type": "code",
   "execution_count": null,
   "id": "22858502",
   "metadata": {},
   "outputs": [],
   "source": []
  },
  {
   "cell_type": "markdown",
   "id": "1a544cfe",
   "metadata": {},
   "source": [
    "### Here we check for null values and duplicates"
   ]
  },
  {
   "cell_type": "code",
   "execution_count": 34,
   "id": "800dec0d",
   "metadata": {},
   "outputs": [
    {
     "data": {
      "text/plain": [
       "Store ID           0\n",
       "City               0\n",
       "State              0\n",
       "Sales Region       0\n",
       "New Expansion      0\n",
       "Marketing Spend    0\n",
       "Revenue            0\n",
       "dtype: int64"
      ]
     },
     "execution_count": 34,
     "metadata": {},
     "output_type": "execute_result"
    }
   ],
   "source": [
    "df.isna().sum()"
   ]
  },
  {
   "cell_type": "code",
   "execution_count": 35,
   "id": "d65ea59d",
   "metadata": {},
   "outputs": [
    {
     "data": {
      "text/plain": [
       "0"
      ]
     },
     "execution_count": 35,
     "metadata": {},
     "output_type": "execute_result"
    }
   ],
   "source": [
    "df.duplicated().sum()"
   ]
  },
  {
   "cell_type": "code",
   "execution_count": 36,
   "id": "6a6bf4db",
   "metadata": {},
   "outputs": [],
   "source": [
    "# From the above we can tell that the data is clean and ready for analysis"
   ]
  },
  {
   "cell_type": "markdown",
   "id": "b1eccb58",
   "metadata": {},
   "source": []
  },
  {
   "cell_type": "markdown",
   "id": "4b4e7cc5",
   "metadata": {},
   "source": [
    "### Here we carry out relationship analysis"
   ]
  },
  {
   "cell_type": "code",
   "execution_count": 52,
   "id": "8a998844",
   "metadata": {},
   "outputs": [
    {
     "data": {
      "text/html": [
       "<div>\n",
       "<style scoped>\n",
       "    .dataframe tbody tr th:only-of-type {\n",
       "        vertical-align: middle;\n",
       "    }\n",
       "\n",
       "    .dataframe tbody tr th {\n",
       "        vertical-align: top;\n",
       "    }\n",
       "\n",
       "    .dataframe thead th {\n",
       "        text-align: right;\n",
       "    }\n",
       "</style>\n",
       "<table border=\"1\" class=\"dataframe\">\n",
       "  <thead>\n",
       "    <tr style=\"text-align: right;\">\n",
       "      <th></th>\n",
       "      <th>Marketing Spend</th>\n",
       "      <th>Revenue</th>\n",
       "    </tr>\n",
       "  </thead>\n",
       "  <tbody>\n",
       "    <tr>\n",
       "      <th>Marketing Spend</th>\n",
       "      <td>1.000000</td>\n",
       "      <td>0.094303</td>\n",
       "    </tr>\n",
       "    <tr>\n",
       "      <th>Revenue</th>\n",
       "      <td>0.094303</td>\n",
       "      <td>1.000000</td>\n",
       "    </tr>\n",
       "  </tbody>\n",
       "</table>\n",
       "</div>"
      ],
      "text/plain": [
       "                 Marketing Spend   Revenue\n",
       "Marketing Spend         1.000000  0.094303\n",
       "Revenue                 0.094303  1.000000"
      ]
     },
     "execution_count": 52,
     "metadata": {},
     "output_type": "execute_result"
    }
   ],
   "source": [
    "df[['Marketing Spend', 'Revenue']].corr()"
   ]
  },
  {
   "cell_type": "code",
   "execution_count": null,
   "id": "4ed1388e",
   "metadata": {},
   "outputs": [],
   "source": [
    "# The correlation between them is very weak. To put more intuitively, we could use the heatmap as follows:"
   ]
  },
  {
   "cell_type": "code",
   "execution_count": 56,
   "id": "4010de52",
   "metadata": {},
   "outputs": [
    {
     "data": {
      "text/plain": [
       "<AxesSubplot:>"
      ]
     },
     "execution_count": 56,
     "metadata": {},
     "output_type": "execute_result"
    },
    {
     "data": {
      "image/png": "[encoded data removed]",
      "text/plain": [
       "<Figure size 432x288 with 2 Axes>"
      ]
     },
     "metadata": {
      "needs_background": "light"
     },
     "output_type": "display_data"
    }
   ],
   "source": [
    "cmap = sns.diverging_palette(220, 10, as_cmap = True)\n",
    "sns.heatmap(df[['Marketing Spend', 'Revenue']].corr(), vmax = 0.3, center=0, cmap = cmap, square=True, linewidths=0.5, cbar_kws={\"shrink\": 0.5})"
   ]
  },
  {
   "cell_type": "code",
   "execution_count": 1,
   "id": "3bf4bc85",
   "metadata": {},
   "outputs": [],
   "source": [
    "# This is not concusive so we need to use "
   ]
  },
  {
   "cell_type": "code",
   "execution_count": 10,
   "id": "d15d00d5",
   "metadata": {},
   "outputs": [
    {
     "data": {
      "text/plain": [
       "<seaborn.axisgrid.PairGrid at 0x248d8f5fe20>"
      ]
     },
     "execution_count": 10,
     "metadata": {},
     "output_type": "execute_result"
    },
    {
     "data": {
      "image/png": "[encoded data removed]",
      "text/plain": [
       "<Figure size 360x360 with 6 Axes>"
      ]
     },
     "metadata": {
      "needs_background": "light"
     },
     "output_type": "display_data"
    }
   ],
   "source": [
    "sns.pairplot(df.drop(['Store ID'], axis=1))"
   ]
  },
  {
   "cell_type": "code",
   "execution_count": 11,
   "id": "8e1d5274",
   "metadata": {},
   "outputs": [
    {
     "data": {
      "text/plain": [
       "<seaborn.axisgrid.FacetGrid at 0x248df343a60>"
      ]
     },
     "execution_count": 11,
     "metadata": {},
     "output_type": "execute_result"
    },
    {
     "data": {
      "image/png": "[encoded data removed]",
      "text/plain": [
       "<Figure size 444.25x360 with 1 Axes>"
      ]
     },
     "metadata": {
      "needs_background": "light"
     },
     "output_type": "display_data"
    }
   ],
   "source": [
    "sns.relplot(x='Marketing Spend', y='Revenue', hue='New Expansion', data=df)"
   ]
  },
  {
   "cell_type": "code",
   "execution_count": 12,
   "id": "8fea700d",
   "metadata": {},
   "outputs": [],
   "source": [
    "# We can see that most of the new stores are successful"
   ]
  },
  {
   "cell_type": "code",
   "execution_count": 13,
   "id": "500c895d",
   "metadata": {},
   "outputs": [
    {
     "data": {
      "text/plain": [
       "<seaborn.axisgrid.FacetGrid at 0x248dfa8f700>"
      ]
     },
     "execution_count": 13,
     "metadata": {},
     "output_type": "execute_result"
    },
    {
     "data": {
      "image/png": "[encoded data removed]",
      "text/plain": [
       "<Figure size 439.625x360 with 1 Axes>"
      ]
     },
     "metadata": {
      "needs_background": "light"
     },
     "output_type": "display_data"
    }
   ],
   "source": [
    "sns.relplot(x='Marketing Spend', y='Revenue', hue='Sales Region', data=df)"
   ]
  },
  {
   "cell_type": "code",
   "execution_count": null,
   "id": "00a9973f",
   "metadata": {},
   "outputs": [],
   "source": [
    "# The Sales Region does not clearly affect the the revenue as we can see."
   ]
  }
 ],
 "metadata": {
  "kernelspec": {
   "display_name": "Python 3 (ipykernel)",
   "language": "python",
   "name": "python3"
  },
  "language_info": {
   "codemirror_mode": {
    "name": "ipython",
    "version": 3
   },
   "file_extension": ".py",
   "mimetype": "text/x-python",
   "name": "python",
   "nbconvert_exporter": "python",
   "pygments_lexer": "ipython3",
   "version": "3.9.7"
  }
 },
 "nbformat": 4,
 "nbformat_minor": 5
}
